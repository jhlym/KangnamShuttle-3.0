{
 "cells": [
  {
   "cell_type": "code",
   "execution_count": 1,
   "metadata": {},
   "outputs": [],
   "source": [
    "from gpcharts import figure\n",
    "import json, codecs\n",
    "from dateutil import parser"
   ]
  },
  {
   "cell_type": "code",
   "execution_count": 2,
   "metadata": {},
   "outputs": [
    {
     "name": "stdout",
     "output_type": "stream",
     "text": [
      "total 66848\r\n",
      "drwxr-xr-x   6 stories2  staff       192 Feb  6 12:40 \u001b[34m.\u001b[m\u001b[m/\r\n",
      "drwxr-xr-x  14 stories2  staff       448 Feb  6 12:22 \u001b[34m..\u001b[m\u001b[m/\r\n",
      "drwxr-xr-x   3 stories2  staff        96 Feb  6 12:29 \u001b[34m.ipynb_checkpoints\u001b[m\u001b[m/\r\n",
      "-rw-r--r--   1 stories2  staff      2629 Feb  6 12:39 Demo.html\r\n",
      "-rw-r--r--@  1 stories2  staff  33284033 Feb  6 12:23 LogFile.json\r\n",
      "-rw-r--r--   1 stories2  staff     11492 Feb  6 12:40 traffic-timeline.ipynb\r\n"
     ]
    }
   ],
   "source": [
    "ls -al"
   ]
  },
  {
   "cell_type": "code",
   "execution_count": 3,
   "metadata": {},
   "outputs": [],
   "source": [
    "# with open('LogFile.json') as dataFile:    \n",
    "#     jsonData = json.load(dataFile)"
   ]
  },
  {
   "cell_type": "code",
   "execution_count": 4,
   "metadata": {},
   "outputs": [
    {
     "name": "stdout",
     "output_type": "stream",
     "text": [
      "2018-09-02T11:13:46.227Z\n"
     ]
    }
   ],
   "source": [
    "jsonData =  json.load(codecs.open('LogFile.json', 'r', 'utf-8-sig'))\n",
    "print(jsonData[\"-LLN2fWcZEvOd-FnatN3\"][\"dateTime\"])"
   ]
  },
  {
   "cell_type": "code",
   "execution_count": 5,
   "metadata": {},
   "outputs": [
    {
     "data": {
      "text/plain": [
       "11"
      ]
     },
     "execution_count": 5,
     "metadata": {},
     "output_type": "execute_result"
    }
   ],
   "source": [
    "dt = parser.parse(jsonData[\"-LLN2fWcZEvOd-FnatN3\"][\"dateTime\"])\n",
    "dt.hour"
   ]
  },
  {
   "cell_type": "code",
   "execution_count": 6,
   "metadata": {},
   "outputs": [],
   "source": [
    "timeSlice = [0, 0, 0, 0, 0, 0, 0, 0, 0, 0, 0, 0, 0, 0, 0, 0, 0, 0, 0, 0, 0, 0, 0, 0]"
   ]
  },
  {
   "cell_type": "code",
   "execution_count": 7,
   "metadata": {},
   "outputs": [
    {
     "data": {
      "text/plain": [
       "[237,\n",
       " 178,\n",
       " 112,\n",
       " 37,\n",
       " 39,\n",
       " 46,\n",
       " 50,\n",
       " 554,\n",
       " 6818,\n",
       " 4131,\n",
       " 4623,\n",
       " 6641,\n",
       " 3702,\n",
       " 5520,\n",
       " 6403,\n",
       " 3909,\n",
       " 4187,\n",
       " 4857,\n",
       " 2649,\n",
       " 661,\n",
       " 247,\n",
       " 192,\n",
       " 444,\n",
       " 456]"
      ]
     },
     "execution_count": 7,
     "metadata": {},
     "output_type": "execute_result"
    }
   ],
   "source": [
    "counter = 0\n",
    "for key in jsonData:\n",
    "    userKey = jsonData[key][\"userKey\"]\n",
    "    if userKey != \"encryptedUserKey\" and userKey != \"\" and userKey != \"Ukm94DwsRaQH\":\n",
    "        dt = parser.parse(jsonData[key][\"dateTime\"])\n",
    "        hour = dt.hour\n",
    "        timeSlice[hour] += 1\n",
    "        counter += 1\n",
    "timeSlice"
   ]
  },
  {
   "cell_type": "code",
   "execution_count": 8,
   "metadata": {},
   "outputs": [
    {
     "data": {
      "text/plain": [
       "56693"
      ]
     },
     "execution_count": 8,
     "metadata": {},
     "output_type": "execute_result"
    }
   ],
   "source": [
    "sum(timeSlice)"
   ]
  },
  {
   "cell_type": "code",
   "execution_count": 11,
   "metadata": {},
   "outputs": [
    {
     "data": {
      "text/html": [
       "\n",
       "<html>\n",
       "<head>\n",
       "    <script src=\"https://code.jquery.com/jquery-1.10.2.js\"></script>\n",
       "    <script type=\"text/javascript\">\n",
       "    $.getScript( \"https://www.gstatic.com/charts/loader.js\", function() {\n",
       "      if ((typeof google === 'undefined') || (typeof google.visualization === 'undefined')) \n",
       "      {\n",
       "         google.charts.load('current', {'packages':['corechart']});\n",
       "      }\n",
       "\n",
       "      google.charts.setOnLoadCallback(drawChart_달구지봇_트래픽_시간대);\n",
       "    });\n",
       "    \n",
       "    function drawChart_달구지봇_트래픽_시간대() {\n",
       "        var dataArr = [['', 'data1'], [0, 237], [1, 178], [2, 112], [3, 37], [4, 39], [5, 46], [6, 50], [7, 554], [8, 6818], [9, 4131], [10, 4623], [11, 6641], [12, 3702], [13, 5520], [14, 6403], [15, 3909], [16, 4187], [17, 4857], [18, 2649], [19, 661], [20, 247], [21, 192], [22, 444], [23, 456]];\n",
       "        var grTitle = '달구지봇 트래픽 시간대';\n",
       "        var height = 600;\n",
       "        var width = 1000;\n",
       "        var logScaleFlag = false;\n",
       "        var vAxisTitle = '';\n",
       "        var vAxisOpt;\n",
       "        if(logScaleFlag)\n",
       "        {\n",
       "            vAxisOpt = { title: vAxisTitle, logScale: true, format: 'scientific'};\n",
       "        }\n",
       "        else\n",
       "        {\n",
       "            vAxisOpt = { title: vAxisTitle };\n",
       "        }\n",
       "\n",
       "        var options = {\n",
       "            width: width,\n",
       "            height: height,\n",
       "            explorer: { actions: ['dragToZoom', 'rightClickToReset'], maxZoomIn: 0.01 },\n",
       "            curveType: 'function',\n",
       "            title: grTitle,\n",
       "            titleTextStyle: { fontSize: 18, bold: true },\n",
       "            hAxis: { title: dataArr[0][0] },\n",
       "            vAxis: vAxisOpt,\n",
       "            \n",
       "        };\n",
       "\n",
       "        var data = new google.visualization.DataTable();\n",
       "        var csvOut = \"data:text/csv;charset=utf-8\";\n",
       "        // Add column headers\n",
       "        for (var j = 0; j < dataArr[0].length; j++)\n",
       "        {\n",
       "            data.addColumn('number',dataArr[0][j]);\n",
       "            csvOut += ',' + dataArr[0][j];\n",
       "        }\n",
       "        csvOut += '\\n';\n",
       "\n",
       "        // Add columns\n",
       "        for (var i = 1; i < dataArr.length; i++)\n",
       "        {\n",
       "            data.addRow(dataArr[i]);\n",
       "            csvOut += dataArr[i].join(\",\") + '\\n';\n",
       "        }\n",
       "\n",
       "        var chart = new google.visualization.LineChart(document.getElementById('chart_div_달구지봇_트래픽_시간대'));\n",
       "\n",
       "        chart.draw(data, options);\n",
       "        document.getElementById('pic_div_달구지봇_트래픽_시간대').innerHTML = '<a href=\"' + chart.getImageURI() + '\" download=\"'+grTitle+'.png\">Download Figure</a>'\n",
       "        document.getElementById('csvFileDl_달구지봇_트래픽_시간대').innerHTML = '<a href=\"' + encodeURI(csvOut) + '\" download=\"'+grTitle+'.csv\">Download CSV</a>'\n",
       "    }\n",
       "    </script>\n",
       "</head>\n",
       "<body>\n",
       "    <div id=\"chart_div_달구지봇_트래픽_시간대\"></div>\n",
       "    <div id=\"pic_div_달구지봇_트래픽_시간대\"></div>\n",
       "    <div id=\"csvFileDl_달구지봇_트래픽_시간대\"></div>\n",
       "</body>\n",
       "</html>\n"
      ],
      "text/plain": [
       "<IPython.core.display.HTML object>"
      ]
     },
     "metadata": {},
     "output_type": "display_data"
    }
   ],
   "source": [
    "my_plot = figure(title='달구지봇 트래픽 시간대')\n",
    "my_plot.plot(timeSlice)"
   ]
  },
  {
   "cell_type": "code",
   "execution_count": null,
   "metadata": {},
   "outputs": [],
   "source": []
  }
 ],
 "metadata": {
  "kernelspec": {
   "display_name": "Python 3",
   "language": "python",
   "name": "python3"
  },
  "language_info": {
   "codemirror_mode": {
    "name": "ipython",
    "version": 3
   },
   "file_extension": ".py",
   "mimetype": "text/x-python",
   "name": "python",
   "nbconvert_exporter": "python",
   "pygments_lexer": "ipython3",
   "version": "3.7.2"
  }
 },
 "nbformat": 4,
 "nbformat_minor": 1
}
